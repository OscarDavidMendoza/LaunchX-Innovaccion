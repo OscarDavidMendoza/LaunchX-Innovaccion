{
 "cells": [
  {
   "cell_type": "markdown",
   "metadata": {},
   "source": [
    "# Ejercicio 1: Transformar cadenas"
   ]
  },
  {
   "cell_type": "code",
   "execution_count": null,
   "metadata": {},
   "outputs": [],
   "source": [
    "text = \"\"\"Interesting facts about the Moon. The Moon is Earth's only satellite. There are several interesting facts about the Moon and how it affects life here on Earth. On average, the Moon moves 4cm away from the Earth every year. This yearly drift is not significant enough to cause immediate effects on Earth. The highest daylight temperature of the Moon is 127 C.\"\"\"\n",
    "\n",
    "# Texto divido por oracion\n",
    "textSplit = text.split('. ')\n",
    "textSplit\n",
    "\n",
    "# Palabras clave\n",
    "claves = ['average', 'temperature', 'distance']\n",
    "\n",
    "# Ciclo para recorrer cadena\n",
    "for sentence in textSplit:\n",
    "  for clave in claves:\n",
    "    if clave in sentence:\n",
    "      print(sentence)\n",
    "      break\n",
    "\n",
    "\n",
    "# Texto modificado\n",
    "textModified = text.replace('C', \"Celsius\")\n",
    "textModified"
   ]
  },
  {
   "cell_type": "markdown",
   "metadata": {},
   "source": [
    "# Ejercicio 2: Formateando Cadenas"
   ]
  },
  {
   "cell_type": "code",
   "execution_count": 3,
   "metadata": {},
   "outputs": [
    {
     "name": "stdout",
     "output_type": "stream",
     "text": [
      " planeta = 'Marte  '\n",
      "gravedad = 1.4300000000000002\n",
      "nombre = 'Ganímedes'\n",
      "Wonderful Gravity Facts About The Ganímedes\n",
      " planeta = 'Marte  '\n",
      "gravedad = 1.4300000000000002\n",
      "nombre = 'Ganímedes'\n"
     ]
    }
   ],
   "source": [
    "# Datos con los que vas a trabajar\n",
    "planet = 'Marte '\n",
    "gravity  = 0.00143\n",
    "name = 'Ganímedes'\n",
    "\n",
    "# Titulo de texto\n",
    "title = f\"Wonderful gravity facts about the {name}\"\n",
    "\n",
    "#planilla a usar\n",
    "datos = f\"\"\" planeta = '{planet} '\n",
    "gravedad = {gravity * 1000}\n",
    "nombre = '{name}'\"\"\"\n",
    "\n",
    "print(datos)\n",
    "\n",
    "# Union de cadenas\n",
    "template = f\"\"\"{title.title()}\n",
    "{datos}\"\"\"\n",
    "\n",
    "print(template.format(name=name, planet=planet, gravity=gravity))"
   ]
  }
 ],
 "metadata": {
  "interpreter": {
   "hash": "23a63c16e5b7c1387440102d15a7a78034db9fc0b5394325cb94f3e7bc7fb075"
  },
  "kernelspec": {
   "display_name": "Python 3.10.2 64-bit ('3.10.2')",
   "language": "python",
   "name": "python3"
  },
  "language_info": {
   "codemirror_mode": {
    "name": "ipython",
    "version": 3
   },
   "file_extension": ".py",
   "mimetype": "text/x-python",
   "name": "python",
   "nbconvert_exporter": "python",
   "pygments_lexer": "ipython3",
   "version": "3.10.2"
  },
  "orig_nbformat": 4
 },
 "nbformat": 4,
 "nbformat_minor": 2
}
