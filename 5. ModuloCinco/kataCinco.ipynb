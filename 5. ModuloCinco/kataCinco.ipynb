{
 "cells": [
  {
   "cell_type": "markdown",
   "metadata": {},
   "source": [
    "# Ejercicio 1 - Utilizar Operadores Aritmeticos"
   ]
  },
  {
   "cell_type": "code",
   "execution_count": 9,
   "metadata": {},
   "outputs": [
    {
     "name": "stdout",
     "output_type": "stream",
     "text": [
      "628949330\n",
      "390577534\n"
     ]
    }
   ],
   "source": [
    "tierra = 149597870\n",
    "jupiter = 778547200\n",
    "\n",
    "distanciaKm = jupiter - tierra\n",
    "print(distanciaKm)\n",
    "\n",
    "# 1 kilometro = 0.621371192mi\n",
    "# 1 milla = 1.60934km\n",
    "distanciaMillas = distanciaKm * 0.621\n",
    "print(round(distanciaMillas))"
   ]
  },
  {
   "cell_type": "markdown",
   "metadata": {},
   "source": [
    "# Ejercico 2 - Convierte cadenas en numeros y usa valores absolutos"
   ]
  },
  {
   "cell_type": "code",
   "execution_count": 15,
   "metadata": {},
   "outputs": [
    {
     "name": "stdout",
     "output_type": "stream",
     "text": [
      "-50300000\n",
      "31236300.0\n"
     ]
    }
   ],
   "source": [
    "# Tomamos el input de la distancia del sol de dos planetas y convertimos a int\n",
    "planetaUno = int(input(\"Cual es la distancia del sol del primer planeta?\"))\n",
    "planetaDos = int(input(\"Cual es la distancia del sol del segundo planeta?\"))\n",
    "\n",
    "# El siguiente calculo nos da distancia entre los planetas en kilometros\n",
    "distanciaKm = planetaUno - planetaDos\n",
    "print(distanciaKm)\n",
    "\n",
    "# El siguiente calculo nos da la distancia de los planetas en millas\n",
    "distanciaMillas = abs(distanciaKm * 0.621)\n",
    "print(distanciaMillas)\n",
    "\n",
    "\n",
    "\n",
    "\n"
   ]
  }
 ],
 "metadata": {
  "interpreter": {
   "hash": "23a63c16e5b7c1387440102d15a7a78034db9fc0b5394325cb94f3e7bc7fb075"
  },
  "kernelspec": {
   "display_name": "Python 3.10.2 64-bit ('3.10.2')",
   "language": "python",
   "name": "python3"
  },
  "language_info": {
   "codemirror_mode": {
    "name": "ipython",
    "version": 3
   },
   "file_extension": ".py",
   "mimetype": "text/x-python",
   "name": "python",
   "nbconvert_exporter": "python",
   "pygments_lexer": "ipython3",
   "version": "3.10.2"
  },
  "orig_nbformat": 4
 },
 "nbformat": 4,
 "nbformat_minor": 2
}
