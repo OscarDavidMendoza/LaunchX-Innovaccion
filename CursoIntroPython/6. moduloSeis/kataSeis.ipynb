{
 "cells": [
  {
   "cell_type": "markdown",
   "metadata": {},
   "source": [
    "# Ejercicio 1: Crear y Usar Listas de Python"
   ]
  },
  {
   "cell_type": "code",
   "execution_count": 9,
   "metadata": {},
   "outputs": [
    {
     "name": "stdout",
     "output_type": "stream",
     "text": [
      "['Mercury', 'Venus', 'Earth', 'Mars', 'Jupiter', 'Saturn', 'Neptune']\n",
      "There are 8 planets\n",
      "Pluto\n"
     ]
    }
   ],
   "source": [
    "# Creamos una lista de planetas\n",
    "planets = ['Mercury', 'Venus', 'Earth', 'Mars', 'Jupiter', 'Saturn', 'Neptune']\n",
    "print(planets)\n",
    "\n",
    "# Agregamos Pluton a la lista y mostramos el numero de planetas y el ultimo planeta de la lista\n",
    "planets.append('Pluto')\n",
    "print('There are', len(planets), 'planets')\n",
    "print(planets[-1])\n",
    "\n"
   ]
  },
  {
   "cell_type": "markdown",
   "metadata": {},
   "source": [
    "# Ejercicio 2: Trabajando con datos de una lista"
   ]
  },
  {
   "cell_type": "code",
   "execution_count": 8,
   "metadata": {},
   "outputs": [
    {
     "name": "stdout",
     "output_type": "stream",
     "text": [
      "3\n",
      "['Mercury', 'Venus', 'Earth']\n",
      "['Jupiter', 'Saturn', 'Neptune']\n"
     ]
    }
   ],
   "source": [
    "# Lista de planetas\n",
    "planets = ['Mercury', 'Venus', 'Earth', 'Mars', 'Jupiter', 'Saturn', 'Neptune']\n",
    "\n",
    "#Solicitamos el nombre de un planeta al usario\n",
    "planetName = input(\"Name a planet: \")\n",
    "\n",
    "#Buscamos el planeta en la lista\n",
    "indexOfPlanet = planets.index(planetName)\n",
    "print(indexOfPlanet)\n",
    "\n",
    "# Muestra los planetas más cercanos al sol\n",
    "planetsCloserToSun = planets[0:indexOfPlanet]\n",
    "print(planetsCloserToSun)\n",
    "\n",
    "# Muestra los planetas más lejanos al sol\n",
    "planetsFartherFromSun = planets[indexOfPlanet + 1:]\n",
    "print(planetsFartherFromSun)"
   ]
  }
 ],
 "metadata": {
  "interpreter": {
   "hash": "23a63c16e5b7c1387440102d15a7a78034db9fc0b5394325cb94f3e7bc7fb075"
  },
  "kernelspec": {
   "display_name": "Python 3.10.2 64-bit ('3.10.2')",
   "language": "python",
   "name": "python3"
  },
  "language_info": {
   "codemirror_mode": {
    "name": "ipython",
    "version": 3
   },
   "file_extension": ".py",
   "mimetype": "text/x-python",
   "name": "python",
   "nbconvert_exporter": "python",
   "pygments_lexer": "ipython3",
   "version": "3.10.2"
  },
  "orig_nbformat": 4
 },
 "nbformat": 4,
 "nbformat_minor": 2
}
