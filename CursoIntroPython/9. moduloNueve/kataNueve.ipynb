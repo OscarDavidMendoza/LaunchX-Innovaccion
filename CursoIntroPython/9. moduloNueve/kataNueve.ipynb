{
 "cells": [
  {
   "cell_type": "markdown",
   "metadata": {},
   "source": [
    "# Ejercicio 1: Trabajar con argumentos en funciones"
   ]
  },
  {
   "cell_type": "code",
   "execution_count": 10,
   "metadata": {},
   "outputs": [
    {
     "name": "stdout",
     "output_type": "stream",
     "text": [
      "\n",
      "  Average: 90.33333333333333\n",
      "  Tank One: 85\n",
      "  Tank Two: 96\n",
      "  Tank Three: 90\n",
      "  \n",
      "\n",
      "  Average: 2.0\n",
      "  Tank One: 1\n",
      "  Tank Two: 2\n",
      "  Tank Three: 3\n",
      "  \n"
     ]
    }
   ],
   "source": [
    "# Definimos una funcion de tres lecturas \n",
    "def gasAverage(tankOne, tankTwo, tankThree):\n",
    "  totalAverage = (tankOne + tankTwo + tankThree) / 3\n",
    "  return f\"\"\"\n",
    "  Average: {totalAverage}\n",
    "  Tank One: {tankOne}\n",
    "  Tank Two: {tankTwo}\n",
    "  Tank Three: {tankThree}\n",
    "  \"\"\"\n",
    "\n",
    "# Llamamos a la funcion\n",
    "print(gasAverage(85, 96, 90))\n",
    "\n",
    "# Funcion promedio\n",
    "def average(values):\n",
    "  total = sum(values)\n",
    "  length = len(values)\n",
    "  return total / length\n",
    "\n",
    "# Funcion actualizada\n",
    "def report(tankOne, tankTwo, tankThree):\n",
    "  return f\"\"\"\n",
    "  Average: {average([tankOne, tankTwo, tankThree])}\n",
    "  Tank One: {tankOne}\n",
    "  Tank Two: {tankTwo}\n",
    "  Tank Three: {tankThree}\n",
    "  \"\"\"\n",
    "\n",
    "print(report(1, 2, 3))"
   ]
  },
  {
   "cell_type": "markdown",
   "metadata": {},
   "source": [
    "# Ejercicio 2: Trabajo con argumentos de palabra clave"
   ]
  },
  {
   "cell_type": "code",
   "execution_count": 12,
   "metadata": {},
   "outputs": [
    {
     "name": "stdout",
     "output_type": "stream",
     "text": [
      "{'tank': 1, 'day': 'Monday', 'polot': 3}\n"
     ]
    }
   ],
   "source": [
    "# Funcion con informe preciso de la mision\n",
    "def preciseReport(preLaunchTime, flightTime, destination, externalTank, internalTank):\n",
    "  return f\"\"\"\n",
    "  Prelaunch Time: {preLaunchTime}\n",
    "  Flight Time: {flightTime}\n",
    "  Destination: {destination}\n",
    "  External Tank: {externalTank}%\n",
    "  Internal Tank: {internalTank}%\n",
    "  \"\"\"\n",
    "\n",
    "# Nueva funcion de reporte\n",
    "def newReport(destination, *minutes, **fuel_reservoirs):\n",
    "  return f\"\"\"\n",
    "  Destination: {destination}\n",
    "  Travel Time: {minutes}\n",
    "  Fuel Left: {fuel_reservoirs}\n",
    "  \"\"\"\n",
    "\n",
    "\n"
   ]
  }
 ],
 "metadata": {
  "interpreter": {
   "hash": "23a63c16e5b7c1387440102d15a7a78034db9fc0b5394325cb94f3e7bc7fb075"
  },
  "kernelspec": {
   "display_name": "Python 3.10.2 64-bit ('3.10.2')",
   "language": "python",
   "name": "python3"
  },
  "language_info": {
   "codemirror_mode": {
    "name": "ipython",
    "version": 3
   },
   "file_extension": ".py",
   "mimetype": "text/x-python",
   "name": "python",
   "nbconvert_exporter": "python",
   "pygments_lexer": "ipython3",
   "version": "3.10.2"
  },
  "orig_nbformat": 4
 },
 "nbformat": 4,
 "nbformat_minor": 2
}
