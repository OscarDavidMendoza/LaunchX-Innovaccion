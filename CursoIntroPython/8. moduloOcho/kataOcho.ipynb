{
 "cells": [
  {
   "cell_type": "markdown",
   "metadata": {},
   "source": [
    "# Ejercicio 1: Creacion de diccionarios de Python"
   ]
  },
  {
   "cell_type": "code",
   "execution_count": 59,
   "metadata": {},
   "outputs": [
    {
     "name": "stdout",
     "output_type": "stream",
     "text": [
      "Mars has 2 moons.\n",
      "Mars has a polar circumference of: 6752.\n"
     ]
    }
   ],
   "source": [
    "# Creacion de un diccionario\n",
    "planet = {\n",
    "  'name': 'Mars',\n",
    "  'moons': 2\n",
    "}\n",
    "\n",
    "# Mostramos el nombre del planeta y el numero de lunas que tiene\n",
    "print(f\"{planet.get('name')} has {planet['moons']} moons.\")\n",
    "\n",
    "# Agregamos la clave circunferencia\n",
    "planet['circunferencia (km)'] = {\n",
    "  'polar': 6752,\n",
    "  'equatorial': 6792\n",
    "}\n",
    "\n",
    "#Imprimimos el nombre del planeta con su circunferencia polar\n",
    "print(f\"{planet['name']} has a polar circumference of: {planet['circunferencia (km)']['polar']}.\")"
   ]
  },
  {
   "cell_type": "markdown",
   "metadata": {},
   "source": [
    "# Ejercicio 2: Programacion dinamica con diccionarios"
   ]
  },
  {
   "cell_type": "code",
   "execution_count": 60,
   "metadata": {},
   "outputs": [
    {
     "name": "stdout",
     "output_type": "stream",
     "text": [
      "17.833333333333332\n"
     ]
    }
   ],
   "source": [
    "# Planets and moons\n",
    "\n",
    "planet_moons = {\n",
    "    'mercury': 0,\n",
    "    'venus': 0,\n",
    "    'earth': 1,\n",
    "    'mars': 2,\n",
    "    'jupiter': 79,\n",
    "    'saturn': 82,\n",
    "    'uranus': 27,\n",
    "    'neptune': 14,\n",
    "    'pluto': 5,\n",
    "    'haumea': 2,\n",
    "    'makemake': 1,\n",
    "    'eris': 1\n",
    "}\n",
    "\n",
    "# Determina el numero de lunas\n",
    "moons = planet_moons.values()\n",
    "planets = len(planet_moons.keys())\n",
    "\n",
    "# Cuenta el numero de lunas\n",
    "total_moons = 0\n",
    "for moon in moons:\n",
    "    total_moons = total_moons + moon\n",
    "\n",
    "# Calculamos el promedio de lunas\n",
    "average = total_moons / planets\n",
    "\n",
    "print(average)\n"
   ]
  }
 ],
 "metadata": {
  "interpreter": {
   "hash": "23a63c16e5b7c1387440102d15a7a78034db9fc0b5394325cb94f3e7bc7fb075"
  },
  "kernelspec": {
   "display_name": "Python 3.10.2 64-bit ('3.10.2')",
   "language": "python",
   "name": "python3"
  },
  "language_info": {
   "codemirror_mode": {
    "name": "ipython",
    "version": 3
   },
   "file_extension": ".py",
   "mimetype": "text/x-python",
   "name": "python",
   "nbconvert_exporter": "python",
   "pygments_lexer": "ipython3",
   "version": "3.10.2"
  },
  "orig_nbformat": 4
 },
 "nbformat": 4,
 "nbformat_minor": 2
}
