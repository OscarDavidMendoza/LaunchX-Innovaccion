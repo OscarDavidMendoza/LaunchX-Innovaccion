{
 "cells": [
  {
   "cell_type": "code",
   "execution_count": 2,
   "metadata": {},
   "outputs": [
    {
     "name": "stdout",
     "output_type": "stream",
     "text": [
      "ALERTA! Asteroide cerca!\n"
     ]
    }
   ],
   "source": [
    "velocidad = 25\n",
    "asteroide = 49\n",
    "\n",
    "if asteroide >= velocidad:\n",
    "  print(\"ALERTA! Asteroide cerca!\")\n",
    "else:\n",
    "  print(\"Todo tranquilo\")\n",
    "\n"
   ]
  },
  {
   "cell_type": "code",
   "execution_count": 5,
   "metadata": {},
   "outputs": [
    {
     "name": "stdout",
     "output_type": "stream",
     "text": [
      "Todo tranquilo\n"
     ]
    }
   ],
   "source": [
    "velocidad = 25\n",
    "luz = 20\n",
    "asteroide = 19\n",
    "\n",
    "if asteroide >= velocidad:\n",
    "  print(\"ALERTA! Asteroide cerca!\")\n",
    "elif asteroide == luz:\n",
    "  print(\"Busca un asteroide en el cielo!\")  \n",
    "else: \n",
    "  print(\"Todo tranquilo\")"
   ]
  },
  {
   "cell_type": "code",
   "execution_count": 7,
   "metadata": {},
   "outputs": [
    {
     "name": "stdout",
     "output_type": "stream",
     "text": [
      "Busca un asteroide en el cielo!\n"
     ]
    }
   ],
   "source": [
    "dimension = 25\n",
    "velocidad = 40 # de donde sale la velocidad\n",
    "\n",
    "if dimension > 25 and velocidad > 25:\n",
    "  print(\"ALERTA! Viene un asteroide!\")\n",
    "elif velocidad >= 20:\n",
    "  print(\"Busca un asteroide en el cielo!\")\n",
    "elif dimension < 25:\n",
    "  print(\"Todo tranquilo\")\n",
    "else:\n",
    "  print(\"Todo tranquilo\")\n",
    "\n",
    "\n"
   ]
  }
 ],
 "metadata": {
  "interpreter": {
   "hash": "23a63c16e5b7c1387440102d15a7a78034db9fc0b5394325cb94f3e7bc7fb075"
  },
  "kernelspec": {
   "display_name": "Python 3.10.2 64-bit ('3.10.2')",
   "language": "python",
   "name": "python3"
  },
  "language_info": {
   "codemirror_mode": {
    "name": "ipython",
    "version": 3
   },
   "file_extension": ".py",
   "mimetype": "text/x-python",
   "name": "python",
   "nbconvert_exporter": "python",
   "pygments_lexer": "ipython3",
   "version": "3.10.2"
  },
  "orig_nbformat": 4
 },
 "nbformat": 4,
 "nbformat_minor": 2
}
